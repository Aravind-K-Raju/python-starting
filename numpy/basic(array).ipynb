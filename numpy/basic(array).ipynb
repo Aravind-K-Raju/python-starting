{
 "cells": [
  {
   "cell_type": "code",
   "execution_count": 2,
   "id": "af71d80e",
   "metadata": {},
   "outputs": [],
   "source": [
    "import numpy as np"
   ]
  },
  {
   "cell_type": "code",
   "execution_count": 13,
   "id": "7e802ca8",
   "metadata": {},
   "outputs": [
    {
     "data": {
      "text/plain": [
       "array([1, 2, 3, 4, 5], dtype=int16)"
      ]
     },
     "execution_count": 13,
     "metadata": {},
     "output_type": "execute_result"
    }
   ],
   "source": [
    "a = np.array([1,2,3,4,5],dtype = \"int16\")\n",
    "a"
   ]
  },
  {
   "cell_type": "code",
   "execution_count": 6,
   "id": "a2f3cddc",
   "metadata": {},
   "outputs": [
    {
     "data": {
      "text/plain": [
       "array([[1, 2, 3],\n",
       "       [4, 5, 6]])"
      ]
     },
     "execution_count": 6,
     "metadata": {},
     "output_type": "execute_result"
    }
   ],
   "source": [
    "b = np.array([[1,2,3],[4,5,6]])\n",
    "b"
   ]
  },
  {
   "cell_type": "code",
   "execution_count": 8,
   "id": "82aa0095",
   "metadata": {},
   "outputs": [
    {
     "name": "stdout",
     "output_type": "stream",
     "text": [
      "1\n",
      "2\n"
     ]
    }
   ],
   "source": [
    "print(a.ndim)\n",
    "print(b.ndim)"
   ]
  },
  {
   "cell_type": "code",
   "execution_count": 10,
   "id": "c237c9fb",
   "metadata": {},
   "outputs": [
    {
     "name": "stdout",
     "output_type": "stream",
     "text": [
      "(5,)\n"
     ]
    },
    {
     "data": {
      "text/plain": [
       "(2, 3)"
      ]
     },
     "execution_count": 10,
     "metadata": {},
     "output_type": "execute_result"
    }
   ],
   "source": [
    "print(a.shape)\n",
    "b.shape"
   ]
  },
  {
   "cell_type": "code",
   "execution_count": 14,
   "id": "804bd146",
   "metadata": {},
   "outputs": [
    {
     "data": {
      "text/plain": [
       "dtype('int16')"
      ]
     },
     "execution_count": 14,
     "metadata": {},
     "output_type": "execute_result"
    }
   ],
   "source": [
    "a.dtype"
   ]
  },
  {
   "cell_type": "code",
   "execution_count": 17,
   "id": "5d31ab69",
   "metadata": {},
   "outputs": [
    {
     "name": "stdout",
     "output_type": "stream",
     "text": [
      "2\n",
      "8\n"
     ]
    }
   ],
   "source": [
    "print(a.itemsize)\n",
    "print(b.itemsize)"
   ]
  },
  {
   "cell_type": "code",
   "execution_count": 20,
   "id": "ec9f3338",
   "metadata": {},
   "outputs": [
    {
     "data": {
      "text/plain": [
       "10"
      ]
     },
     "execution_count": 20,
     "metadata": {},
     "output_type": "execute_result"
    }
   ],
   "source": [
    "a.nbytes\n",
    "#2 bytes for each element in a(number of elements in a = 5) giving an answer of 10 bytes (2*5)"
   ]
  },
  {
   "cell_type": "code",
   "execution_count": 28,
   "id": "ffc7cf44",
   "metadata": {},
   "outputs": [],
   "source": [
    "a = np.array([[1, 2, 3, 4, 5,6,7],[8, 9, 10, 11, 12, 13, 14],[15, 16, 17, 18, 19, 20, 21]])"
   ]
  },
  {
   "cell_type": "code",
   "execution_count": 23,
   "id": "58e71ef6",
   "metadata": {},
   "outputs": [
    {
     "data": {
      "text/plain": [
       "array([3, 5, 7])"
      ]
     },
     "execution_count": 23,
     "metadata": {},
     "output_type": "execute_result"
    }
   ],
   "source": [
    "a[0,2::2]"
   ]
  },
  {
   "cell_type": "code",
   "execution_count": 30,
   "id": "cb8c8550",
   "metadata": {},
   "outputs": [
    {
     "data": {
      "text/plain": [
       "array([[ 3],\n",
       "       [10],\n",
       "       [17]])"
      ]
     },
     "execution_count": 30,
     "metadata": {},
     "output_type": "execute_result"
    }
   ],
   "source": [
    "a[:,2:3]"
   ]
  },
  {
   "cell_type": "code",
   "execution_count": 36,
   "id": "8e102755",
   "metadata": {},
   "outputs": [],
   "source": [
    "b = np.array(\n",
    "    [\n",
    "        [\n",
    "            [1, 2, 3, 4, 5, 6, 7],\n",
    "            [8, 9, 10, 11, 12, 13, 14],\n",
    "            [30, 31, 32, 33, 34, 35, 36]\n",
    "        ],\n",
    "        [\n",
    "            [15, 16, 17, 18, 19, 20, 21], \n",
    "            [22, 23, 24, 25, 26, 27, 28], \n",
    "            [29, 30, 31, 32, 33, 34, 35]\n",
    "        ]\n",
    "    ]\n",
    "    )"
   ]
  },
  {
   "cell_type": "code",
   "execution_count": 37,
   "id": "5fa414cb",
   "metadata": {},
   "outputs": [
    {
     "data": {
      "text/plain": [
       "array([[[ 1,  2,  3,  4,  5,  6,  7],\n",
       "        [ 8,  9, 10, 11, 12, 13, 14],\n",
       "        [30, 31, 32, 33, 34, 35, 36]],\n",
       "\n",
       "       [[15, 16, 17, 18, 19, 20, 21],\n",
       "        [22, 23, 24, 25, 26, 27, 28],\n",
       "        [29, 30, 31, 32, 33, 34, 35]]])"
      ]
     },
     "execution_count": 37,
     "metadata": {},
     "output_type": "execute_result"
    }
   ],
   "source": [
    "b"
   ]
  },
  {
   "cell_type": "code",
   "execution_count": 40,
   "id": "84d6c206",
   "metadata": {},
   "outputs": [
    {
     "data": {
      "text/plain": [
       "array([30, 31, 32, 33, 34, 35])"
      ]
     },
     "execution_count": 40,
     "metadata": {},
     "output_type": "execute_result"
    }
   ],
   "source": [
    "b[1,2,1:]"
   ]
  },
  {
   "cell_type": "markdown",
   "id": "66c5672d",
   "metadata": {},
   "source": [
    "## initializing some arrays"
   ]
  },
  {
   "cell_type": "code",
   "execution_count": 44,
   "id": "db21da6f",
   "metadata": {},
   "outputs": [
    {
     "data": {
      "text/plain": [
       "array([[0., 0., 0., 0.],\n",
       "       [0., 0., 0., 0.]])"
      ]
     },
     "execution_count": 44,
     "metadata": {},
     "output_type": "execute_result"
    }
   ],
   "source": [
    "np.zeros((2,4))"
   ]
  },
  {
   "cell_type": "code",
   "execution_count": 45,
   "id": "ec67fd6d",
   "metadata": {},
   "outputs": [
    {
     "data": {
      "text/plain": [
       "array([[1., 1., 1., 1., 1.],\n",
       "       [1., 1., 1., 1., 1.],\n",
       "       [1., 1., 1., 1., 1.]])"
      ]
     },
     "execution_count": 45,
     "metadata": {},
     "output_type": "execute_result"
    }
   ],
   "source": [
    "np.ones((3,5))"
   ]
  },
  {
   "cell_type": "code",
   "execution_count": 46,
   "id": "0fc75440",
   "metadata": {},
   "outputs": [
    {
     "data": {
      "text/plain": [
       "array([[43, 43, 43, 43],\n",
       "       [43, 43, 43, 43]])"
      ]
     },
     "execution_count": 46,
     "metadata": {},
     "output_type": "execute_result"
    }
   ],
   "source": [
    "np.full((2,4),43)"
   ]
  },
  {
   "cell_type": "code",
   "execution_count": 47,
   "id": "54587129",
   "metadata": {},
   "outputs": [
    {
     "data": {
      "text/plain": [
       "array([[[4, 4, 4, 4, 4, 4, 4],\n",
       "        [4, 4, 4, 4, 4, 4, 4],\n",
       "        [4, 4, 4, 4, 4, 4, 4]],\n",
       "\n",
       "       [[4, 4, 4, 4, 4, 4, 4],\n",
       "        [4, 4, 4, 4, 4, 4, 4],\n",
       "        [4, 4, 4, 4, 4, 4, 4]]])"
      ]
     },
     "execution_count": 47,
     "metadata": {},
     "output_type": "execute_result"
    }
   ],
   "source": [
    "np.full_like(b,4)"
   ]
  },
  {
   "cell_type": "code",
   "execution_count": 48,
   "id": "0ff28ae9",
   "metadata": {},
   "outputs": [
    {
     "data": {
      "text/plain": [
       "array([[0.4013228 , 0.37825645, 0.76225785],\n",
       "       [0.62819168, 0.40429777, 0.94091685],\n",
       "       [0.50258228, 0.99291094, 0.15821396],\n",
       "       [0.45224435, 0.66063519, 0.1888854 ]])"
      ]
     },
     "execution_count": 48,
     "metadata": {},
     "output_type": "execute_result"
    }
   ],
   "source": [
    "np.random.rand(4,3)"
   ]
  },
  {
   "cell_type": "code",
   "execution_count": 50,
   "id": "93882f5b",
   "metadata": {},
   "outputs": [
    {
     "data": {
      "text/plain": [
       "array([[ 5, 10, 21, 17, 19, 30],\n",
       "       [20, 17, 27, 24, 18, 25],\n",
       "       [10, 10, 11, 23, 14, 23]], dtype=int32)"
      ]
     },
     "execution_count": 50,
     "metadata": {},
     "output_type": "execute_result"
    }
   ],
   "source": [
    "np.random.randint(4 ,32,size = (3,6))"
   ]
  },
  {
   "cell_type": "code",
   "execution_count": 51,
   "id": "f1b0b3c1",
   "metadata": {},
   "outputs": [
    {
     "data": {
      "text/plain": [
       "array([[1., 0., 0., 0.],\n",
       "       [0., 1., 0., 0.],\n",
       "       [0., 0., 1., 0.],\n",
       "       [0., 0., 0., 1.]])"
      ]
     },
     "execution_count": 51,
     "metadata": {},
     "output_type": "execute_result"
    }
   ],
   "source": [
    "np.identity(4)"
   ]
  },
  {
   "cell_type": "code",
   "execution_count": 56,
   "id": "25e0ddc2",
   "metadata": {},
   "outputs": [
    {
     "data": {
      "text/plain": [
       "array([[1, 2, 3],\n",
       "       [1, 2, 3],\n",
       "       [1, 2, 3],\n",
       "       [1, 2, 3]])"
      ]
     },
     "execution_count": 56,
     "metadata": {},
     "output_type": "execute_result"
    }
   ],
   "source": [
    "aa = np.array([[1,2,3]])\n",
    "r1 = np.repeat(aa,4,axis = 0)\n",
    "r1"
   ]
  },
  {
   "cell_type": "code",
   "execution_count": 62,
   "id": "815e5517",
   "metadata": {},
   "outputs": [
    {
     "data": {
      "text/plain": [
       "array([[1., 1., 1., 1., 1.],\n",
       "       [1., 0., 0., 0., 1.],\n",
       "       [1., 0., 9., 0., 1.],\n",
       "       [1., 0., 0., 0., 1.],\n",
       "       [1., 1., 1., 1., 1.]])"
      ]
     },
     "execution_count": 62,
     "metadata": {},
     "output_type": "execute_result"
    }
   ],
   "source": [
    "test =np.ones((5,5))\n",
    "test[1:4,1:4] = 0\n",
    "test [2,2] = 9\n",
    "test"
   ]
  },
  {
   "cell_type": "markdown",
   "id": "8c492ebd",
   "metadata": {},
   "source": [
    "OR"
   ]
  },
  {
   "cell_type": "code",
   "execution_count": 64,
   "id": "4a8ea48b",
   "metadata": {},
   "outputs": [
    {
     "data": {
      "text/plain": [
       "array([[1., 1., 1., 1., 1.],\n",
       "       [1., 0., 0., 0., 1.],\n",
       "       [1., 0., 0., 0., 1.],\n",
       "       [1., 0., 0., 9., 1.],\n",
       "       [1., 1., 1., 1., 1.]])"
      ]
     },
     "execution_count": 64,
     "metadata": {},
     "output_type": "execute_result"
    }
   ],
   "source": [
    "test =np.ones((5,5))\n",
    "z = np.zeros((3,3))\n",
    "z [2,2] = 9\n",
    "test[1:4,1:4] = z\n",
    "test"
   ]
  },
  {
   "cell_type": "markdown",
   "id": "0ca667f5",
   "metadata": {},
   "source": [
    "copy an array\n",
    "\\"
   ]
  },
  {
   "cell_type": "code",
   "execution_count": 72,
   "id": "e4340759",
   "metadata": {},
   "outputs": [
    {
     "name": "stdout",
     "output_type": "stream",
     "text": [
      "[[1. 1. 1. 1. 1.]\n",
      " [1. 1. 1. 1. 1.]\n",
      " [1. 1. 1. 1. 1.]\n",
      " [1. 1. 1. 1. 1.]\n",
      " [1. 1. 1. 1. 1.]]\n"
     ]
    },
    {
     "data": {
      "text/plain": [
       "array([[1., 1., 1., 1., 1.],\n",
       "       [1., 0., 0., 0., 1.],\n",
       "       [1., 0., 0., 0., 1.],\n",
       "       [1., 0., 0., 9., 1.],\n",
       "       [1., 1., 1., 1., 1.]])"
      ]
     },
     "execution_count": 72,
     "metadata": {},
     "output_type": "execute_result"
    }
   ],
   "source": [
    "test2 = test.copy()\n",
    "test2 = np.ones(test.shape)\n",
    "print(test2)\n",
    "test"
   ]
  },
  {
   "cell_type": "markdown",
   "id": "5df79606",
   "metadata": {},
   "source": [
    "mathematic"
   ]
  },
  {
   "cell_type": "code",
   "execution_count": 83,
   "id": "ca2b51fc",
   "metadata": {},
   "outputs": [
    {
     "name": "stdout",
     "output_type": "stream",
     "text": [
      "[[[ 3  4  5  6  7  8  9]\n",
      "  [10 11 12 13 14 15 16]\n",
      "  [32 33 34 35 36 37 38]]\n",
      "\n",
      " [[17 18 19 20 21 22 23]\n",
      "  [24 25 26 27 28 29 30]\n",
      "  [31 32 33 34 35 36 37]]]\n",
      "[[[ 5  6  7  8  9 10 11]\n",
      "  [12 13 14 15 16 17 18]\n",
      "  [34 35 36 37 38 39 40]]\n",
      "\n",
      " [[19 20 21 22 23 24 25]\n",
      "  [26 27 28 29 30 31 32]\n",
      "  [33 34 35 36 37 38 39]]]\n",
      "[[[ 3  4  5  6  7  8  9]\n",
      "  [10 11 12 13 14 15 16]\n",
      "  [32 33 34 35 36 37 38]]\n",
      "\n",
      " [[17 18 19 20 21 22 23]\n",
      "  [24 25 26 27 28 29 30]\n",
      "  [31 32 33 34 35 36 37]]]\n",
      "[[[ 6  8 10 12 14 16 18]\n",
      "  [20 22 24 26 28 30 32]\n",
      "  [64 66 68 70 72 74 76]]\n",
      "\n",
      " [[34 36 38 40 42 44 46]\n",
      "  [48 50 52 54 56 58 60]\n",
      "  [62 64 66 68 70 72 74]]]\n",
      "[[[ 1.5  2.   2.5  3.   3.5  4.   4.5]\n",
      "  [ 5.   5.5  6.   6.5  7.   7.5  8. ]\n",
      "  [16.  16.5 17.  17.5 18.  18.5 19. ]]\n",
      "\n",
      " [[ 8.5  9.   9.5 10.  10.5 11.  11.5]\n",
      "  [12.  12.5 13.  13.5 14.  14.5 15. ]\n",
      "  [15.5 16.  16.5 17.  17.5 18.  18.5]]]\n"
     ]
    },
    {
     "data": {
      "text/plain": [
       "array([[[ 3,  4,  5,  6,  7,  8,  9],\n",
       "        [10, 11, 12, 13, 14, 15, 16],\n",
       "        [32, 33, 34, 35, 36, 37, 38]],\n",
       "\n",
       "       [[17, 18, 19, 20, 21, 22, 23],\n",
       "        [24, 25, 26, 27, 28, 29, 30],\n",
       "        [31, 32, 33, 34, 35, 36, 37]]])"
      ]
     },
     "execution_count": 83,
     "metadata": {},
     "output_type": "execute_result"
    }
   ],
   "source": [
    "print(b)\n",
    "b = b+2\n",
    "print(b)\n",
    "b-=2\n",
    "print(b)\n",
    "print(b*2)\n",
    "print(b/2)\n",
    "b"
   ]
  },
  {
   "cell_type": "code",
   "execution_count": 94,
   "id": "8f34e42d",
   "metadata": {},
   "outputs": [],
   "source": [
    "test = np.sin(test)"
   ]
  },
  {
   "cell_type": "code",
   "execution_count": 86,
   "id": "e87b06a8",
   "metadata": {},
   "outputs": [
    {
     "data": {
      "text/plain": [
       "array([[ 2.,  2.,  2.,  2.,  2.],\n",
       "       [ 2.,  0.,  0.,  0.,  2.],\n",
       "       [ 2.,  0.,  0.,  0.,  2.],\n",
       "       [ 2.,  0.,  0., 18.,  2.],\n",
       "       [ 2.,  2.,  2.,  2.,  2.]])"
      ]
     },
     "execution_count": 86,
     "metadata": {},
     "output_type": "execute_result"
    }
   ],
   "source": [
    "test + test"
   ]
  },
  {
   "cell_type": "markdown",
   "id": "af58f3fc",
   "metadata": {},
   "source": [
    "linear algera\n"
   ]
  },
  {
   "cell_type": "code",
   "execution_count": 88,
   "id": "10a9deda",
   "metadata": {},
   "outputs": [
    {
     "name": "stdout",
     "output_type": "stream",
     "text": [
      "[[1. 1. 1.]\n",
      " [1. 1. 1.]]\n",
      "[[2 2]\n",
      " [2 2]\n",
      " [2 2]]\n"
     ]
    },
    {
     "data": {
      "text/plain": [
       "array([[6., 6.],\n",
       "       [6., 6.]])"
      ]
     },
     "execution_count": 88,
     "metadata": {},
     "output_type": "execute_result"
    }
   ],
   "source": [
    "m = np.ones((2,3))\n",
    "print(m)\n",
    "n = np.full((3,2),2)\n",
    "print(n)\n",
    "\n",
    "np.matmul(m,n)"
   ]
  },
  {
   "cell_type": "code",
   "execution_count": 93,
   "id": "d56d13d5",
   "metadata": {},
   "outputs": [
    {
     "data": {
      "text/plain": [
       "np.float64(1.0)"
      ]
     },
     "execution_count": 93,
     "metadata": {},
     "output_type": "execute_result"
    }
   ],
   "source": [
    "q =np.identity(6)\n",
    "np.linalg.det(q)\n"
   ]
  },
  {
   "cell_type": "code",
   "execution_count": 97,
   "id": "1c46c018",
   "metadata": {},
   "outputs": [
    {
     "name": "stdout",
     "output_type": "stream",
     "text": [
      "0.0\n",
      "0.8414709848078965\n",
      "13.875654242168102\n",
      "\n"
     ]
    }
   ],
   "source": [
    "print(np.min(test))\n",
    "print(np.max(test))\n",
    "print(np.sum(test))\n",
    "print()"
   ]
  },
  {
   "cell_type": "markdown",
   "id": "3ec7e382",
   "metadata": {},
   "source": [
    "reorganizing"
   ]
  },
  {
   "cell_type": "code",
   "execution_count": 99,
   "id": "65f8b4a3",
   "metadata": {},
   "outputs": [
    {
     "data": {
      "text/plain": [
       "array([[1],\n",
       "       [2],\n",
       "       [3],\n",
       "       [4],\n",
       "       [5]])"
      ]
     },
     "execution_count": 99,
     "metadata": {},
     "output_type": "execute_result"
    }
   ],
   "source": [
    "before = np.array([1,2,3,4,5])\n",
    "after = before.reshape(5,1)\n",
    "after"
   ]
  },
  {
   "cell_type": "code",
   "execution_count": 109,
   "id": "674ab7c0",
   "metadata": {},
   "outputs": [
    {
     "data": {
      "text/plain": [
       "array([[ 1,  2,  3,  4,  5],\n",
       "       [ 8,  9, 10, 11, 12],\n",
       "       [ 1,  2,  3,  4,  5]])"
      ]
     },
     "execution_count": 109,
     "metadata": {},
     "output_type": "execute_result"
    }
   ],
   "source": [
    "v1 = np.array([1,2,3,4,5])\n",
    "v2 =np.array([8,9,10,11,12])\n",
    "\n",
    "np.vstack((v1,v2,v1))"
   ]
  },
  {
   "cell_type": "code",
   "execution_count": 108,
   "id": "83e36597",
   "metadata": {},
   "outputs": [
    {
     "data": {
      "text/plain": [
       "array([ 1,  2,  3,  4,  5,  8,  9, 10, 11, 12,  1,  2,  3,  4,  5])"
      ]
     },
     "execution_count": 108,
     "metadata": {},
     "output_type": "execute_result"
    }
   ],
   "source": [
    "v1 = np.array([1,2,3,4,5])\n",
    "v2 =np.array([8,9,10,11,12])\n",
    "\n",
    "np.hstack((v1,v2,v1))"
   ]
  },
  {
   "cell_type": "code",
   "execution_count": 110,
   "id": "012c2ad2",
   "metadata": {},
   "outputs": [],
   "source": [
    "b*=5"
   ]
  },
  {
   "cell_type": "code",
   "execution_count": 111,
   "id": "144137a5",
   "metadata": {},
   "outputs": [
    {
     "data": {
      "text/plain": [
       "array([[[False, False, False, False, False, False, False],\n",
       "        [False,  True,  True,  True,  True,  True,  True],\n",
       "        [ True,  True,  True,  True,  True,  True,  True]],\n",
       "\n",
       "       [[ True,  True,  True,  True,  True,  True,  True],\n",
       "        [ True,  True,  True,  True,  True,  True,  True],\n",
       "        [ True,  True,  True,  True,  True,  True,  True]]])"
      ]
     },
     "execution_count": 111,
     "metadata": {},
     "output_type": "execute_result"
    }
   ],
   "source": [
    "b > 50"
   ]
  },
  {
   "cell_type": "code",
   "execution_count": 112,
   "id": "2b296ccd",
   "metadata": {},
   "outputs": [
    {
     "data": {
      "text/plain": [
       "array([ 55,  60,  65,  70,  75,  80, 160, 165, 170, 175, 180, 185, 190,\n",
       "        85,  90,  95, 100, 105, 110, 115, 120, 125, 130, 135, 140, 145,\n",
       "       150, 155, 160, 165, 170, 175, 180, 185])"
      ]
     },
     "execution_count": 112,
     "metadata": {},
     "output_type": "execute_result"
    }
   ],
   "source": [
    "b[b>50]"
   ]
  },
  {
   "cell_type": "code",
   "execution_count": 128,
   "id": "5eb2798d",
   "metadata": {},
   "outputs": [
    {
     "data": {
      "text/plain": [
       "array([55, 60, 65, 70, 75, 80, 85, 90, 95])"
      ]
     },
     "execution_count": 128,
     "metadata": {},
     "output_type": "execute_result"
    }
   ],
   "source": [
    "b[(b > 50) & (b < 100)]"
   ]
  },
  {
   "cell_type": "code",
   "execution_count": null,
   "id": "88ccbf20",
   "metadata": {},
   "outputs": [],
   "source": []
  }
 ],
 "metadata": {
  "kernelspec": {
   "display_name": "Python 3",
   "language": "python",
   "name": "python3"
  },
  "language_info": {
   "codemirror_mode": {
    "name": "ipython",
    "version": 3
   },
   "file_extension": ".py",
   "mimetype": "text/x-python",
   "name": "python",
   "nbconvert_exporter": "python",
   "pygments_lexer": "ipython3",
   "version": "3.12.5"
  }
 },
 "nbformat": 4,
 "nbformat_minor": 5
}
